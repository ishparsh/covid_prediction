{
 "cells": [
  {
   "cell_type": "markdown",
   "id": "4f131657",
   "metadata": {},
   "source": [
    "## Loading the libraries"
   ]
  },
  {
   "cell_type": "code",
   "execution_count": 13,
   "id": "bf21908d",
   "metadata": {},
   "outputs": [],
   "source": [
    "import numpy as np\n",
    "import pandas as pd\n",
    "import os\n",
    "\n",
    "from keras.models import Sequential \n",
    "from keras.layers import Conv2D\n",
    "from keras.layers import MaxPool2D\n",
    "from keras.layers import Flatten\n",
    "from keras.layers import Dense\n",
    "from keras.layers import Dropout\n",
    "from keras.preprocessing.image import ImageDataGenerator\n",
    "from tensorflow.keras.models import Model"
   ]
  },
  {
   "cell_type": "code",
   "execution_count": 1,
   "id": "bc212326",
   "metadata": {},
   "outputs": [],
   "source": [
    "# DATA PREPROCESSING"
   ]
  },
  {
   "cell_type": "code",
   "execution_count": 3,
   "id": "31296ea3",
   "metadata": {},
   "outputs": [],
   "source": [
    "#Preprocessing Training Dataset\n",
    "train_datagen = ImageDataGenerator(rescale = 1./255,\n",
    "                                   shear_range = 0.2,\n",
    "                                   zoom_range = 0.2,\n",
    "                                   horizontal_flip = True)"
   ]
  },
  {
   "cell_type": "code",
   "execution_count": 6,
   "id": "0a2b7fa8",
   "metadata": {},
   "outputs": [
    {
     "name": "stdout",
     "output_type": "stream",
     "text": [
      "Found 244 images belonging to 2 classes.\n"
     ]
    }
   ],
   "source": [
    "training_set = train_datagen.flow_from_directory('D:/New folder/corona/train',\n",
    "                                                 target_size = (128, 128),\n",
    "                                                 batch_size = 32,\n",
    "                                                 class_mode = 'binary')"
   ]
  },
  {
   "cell_type": "code",
   "execution_count": 7,
   "id": "110c1d14",
   "metadata": {},
   "outputs": [],
   "source": [
    "# Preprocessing the Test set\n",
    "test_datagen = ImageDataGenerator(rescale = 1./255)"
   ]
  },
  {
   "cell_type": "code",
   "execution_count": 8,
   "id": "074ef9f0",
   "metadata": {},
   "outputs": [
    {
     "name": "stdout",
     "output_type": "stream",
     "text": [
      "Found 20 images belonging to 2 classes.\n"
     ]
    }
   ],
   "source": [
    "test_set = test_datagen.flow_from_directory('D:/New folder/corona/test',\n",
    "                                            target_size = (128, 128),\n",
    "                                            batch_size = 32,\n",
    "                                            class_mode = 'binary')"
   ]
  },
  {
   "cell_type": "markdown",
   "id": "6f19ec96",
   "metadata": {},
   "source": [
    "## Creating CNN model"
   ]
  },
  {
   "cell_type": "markdown",
   "id": "95edf1f1",
   "metadata": {},
   "source": [
    "\n",
    "Initialising the CNN"
   ]
  },
  {
   "cell_type": "code",
   "execution_count": 14,
   "id": "967c0f7f",
   "metadata": {},
   "outputs": [],
   "source": [
    "\n",
    "# Initialising the CNN\n",
    "model = Sequential()\n",
    "\n",
    "# Step 1 - Convolution\n",
    "model.add(Conv2D(filters=64, kernel_size=(3,3), activation='relu', padding='same', kernel_initializer='he_uniform', input_shape=(128,128,3)))\n",
    "\n",
    "# Step 2 - Pooling\n",
    "model.add(MaxPool2D(2,2))\n",
    "\n",
    "# Step 2 - Dropout\n",
    "model.add(Dropout(0.4))\n",
    "\n",
    "\n",
    "# Adding a second convolutional layer\n",
    "model.add(Conv2D(filters=128, kernel_size=(3,3), activation='relu', padding='same', kernel_initializer='he_uniform'))\n",
    "model.add(MaxPool2D(2,2))\n",
    "model.add(Dropout(0.4))\n",
    "\n",
    "# Adding a third convolutional layer\n",
    "model.add(Conv2D(filters=256, kernel_size=(3,3), activation='relu', padding='same', kernel_initializer='he_uniform'))\n",
    "model.add(MaxPool2D(2,2))\n",
    "model.add(Dropout(0.5))\n",
    "\n",
    "# Step 3 - Flattening\n",
    "model.add(Flatten())\n",
    "\n",
    "# Step 4 - Full Connection\n",
    "model.add(Dense(128, activation='relu', kernel_initializer='he_uniform'))\n",
    "model.add(Dropout(0.5))\n",
    "\n",
    "# Step 5 - Output Layer\n",
    "## For Binary Classification\n",
    "model.add(Dense(1, activation='sigmoid'))"
   ]
  },
  {
   "cell_type": "code",
   "execution_count": 20,
   "id": "023ae461",
   "metadata": {},
   "outputs": [
    {
     "name": "stdout",
     "output_type": "stream",
     "text": [
      "Model: \"sequential_2\"\n",
      "_________________________________________________________________\n",
      "Layer (type)                 Output Shape              Param #   \n",
      "=================================================================\n",
      "conv2d_1 (Conv2D)            (None, 128, 128, 64)      1792      \n",
      "_________________________________________________________________\n",
      "max_pooling2d_1 (MaxPooling2 (None, 64, 64, 64)        0         \n",
      "_________________________________________________________________\n",
      "dropout (Dropout)            (None, 64, 64, 64)        0         \n",
      "_________________________________________________________________\n",
      "conv2d_2 (Conv2D)            (None, 64, 64, 128)       73856     \n",
      "_________________________________________________________________\n",
      "max_pooling2d_2 (MaxPooling2 (None, 32, 32, 128)       0         \n",
      "_________________________________________________________________\n",
      "dropout_1 (Dropout)          (None, 32, 32, 128)       0         \n",
      "_________________________________________________________________\n",
      "conv2d_3 (Conv2D)            (None, 32, 32, 256)       295168    \n",
      "_________________________________________________________________\n",
      "max_pooling2d_3 (MaxPooling2 (None, 16, 16, 256)       0         \n",
      "_________________________________________________________________\n",
      "dropout_2 (Dropout)          (None, 16, 16, 256)       0         \n",
      "_________________________________________________________________\n",
      "flatten (Flatten)            (None, 65536)             0         \n",
      "_________________________________________________________________\n",
      "dense (Dense)                (None, 128)               8388736   \n",
      "_________________________________________________________________\n",
      "dropout_3 (Dropout)          (None, 128)               0         \n",
      "_________________________________________________________________\n",
      "dense_1 (Dense)              (None, 1)                 129       \n",
      "=================================================================\n",
      "Total params: 8,759,681\n",
      "Trainable params: 8,759,681\n",
      "Non-trainable params: 0\n",
      "_________________________________________________________________\n",
      "None\n"
     ]
    }
   ],
   "source": [
    "# Part 3 - Training the CNN\n",
    "\n",
    "# Compiling the CNN\n",
    "from tensorflow.keras.optimizers import RMSprop\n",
    "model.compile(loss='binary_crossentropy',\n",
    "                  optimizer=RMSprop(learning_rate=0.00005),\n",
    "                  metrics=['accuracy'])\n",
    "print(model.summary())\n",
    "\n",
    "\n"
   ]
  },
  {
   "cell_type": "code",
   "execution_count": 21,
   "id": "180ed039",
   "metadata": {},
   "outputs": [],
   "source": [
    "batch_size = 256\n",
    "epochs = 40"
   ]
  },
  {
   "cell_type": "code",
   "execution_count": 25,
   "id": "928230e9",
   "metadata": {},
   "outputs": [
    {
     "name": "stdout",
     "output_type": "stream",
     "text": [
      "Epoch 1/40\n",
      "8/8 [==============================] - 22s 2s/step - loss: 7.2466 - accuracy: 0.5451 - val_loss: 0.4568 - val_accuracy: 0.7500\n",
      "Epoch 2/40\n",
      "8/8 [==============================] - 16s 2s/step - loss: 1.3769 - accuracy: 0.6557 - val_loss: 0.4010 - val_accuracy: 1.0000\n",
      "Epoch 3/40\n",
      "8/8 [==============================] - 24s 3s/step - loss: 0.7489 - accuracy: 0.6598 - val_loss: 0.4698 - val_accuracy: 1.0000\n",
      "Epoch 4/40\n",
      "8/8 [==============================] - 30s 4s/step - loss: 0.5707 - accuracy: 0.7705 - val_loss: 0.5406 - val_accuracy: 0.9500\n",
      "Epoch 5/40\n",
      "8/8 [==============================] - 30s 4s/step - loss: 0.6371 - accuracy: 0.7090 - val_loss: 0.5530 - val_accuracy: 1.0000\n",
      "Epoch 6/40\n",
      "8/8 [==============================] - 19s 2s/step - loss: 0.5132 - accuracy: 0.7664 - val_loss: 0.4651 - val_accuracy: 0.9500\n",
      "Epoch 7/40\n",
      "8/8 [==============================] - 13s 2s/step - loss: 0.6606 - accuracy: 0.7500 - val_loss: 0.5766 - val_accuracy: 1.0000\n",
      "Epoch 8/40\n",
      "8/8 [==============================] - 13s 2s/step - loss: 0.5756 - accuracy: 0.7664 - val_loss: 0.4937 - val_accuracy: 1.0000\n",
      "Epoch 9/40\n",
      "8/8 [==============================] - 13s 2s/step - loss: 0.5778 - accuracy: 0.7541 - val_loss: 0.4768 - val_accuracy: 1.0000\n",
      "Epoch 10/40\n",
      "8/8 [==============================] - 17s 2s/step - loss: 0.4688 - accuracy: 0.7910 - val_loss: 0.4683 - val_accuracy: 1.0000\n",
      "Epoch 11/40\n",
      "8/8 [==============================] - 15s 2s/step - loss: 0.5964 - accuracy: 0.7910 - val_loss: 0.4280 - val_accuracy: 1.0000\n",
      "Epoch 12/40\n",
      "8/8 [==============================] - 16s 2s/step - loss: 0.6348 - accuracy: 0.7705 - val_loss: 0.4531 - val_accuracy: 1.0000\n",
      "Epoch 13/40\n",
      "8/8 [==============================] - 17s 2s/step - loss: 0.7324 - accuracy: 0.7623 - val_loss: 0.4522 - val_accuracy: 1.0000\n",
      "Epoch 14/40\n",
      "8/8 [==============================] - 17s 2s/step - loss: 0.4039 - accuracy: 0.8361 - val_loss: 0.4304 - val_accuracy: 1.0000\n",
      "Epoch 15/40\n",
      "8/8 [==============================] - 17s 2s/step - loss: 0.4495 - accuracy: 0.8197 - val_loss: 0.4474 - val_accuracy: 1.0000\n",
      "Epoch 16/40\n",
      "8/8 [==============================] - 14s 2s/step - loss: 0.4523 - accuracy: 0.8033 - val_loss: 0.5187 - val_accuracy: 0.9500\n",
      "Epoch 17/40\n",
      "8/8 [==============================] - 13s 2s/step - loss: 0.4824 - accuracy: 0.7951 - val_loss: 0.4779 - val_accuracy: 1.0000\n",
      "Epoch 18/40\n",
      "8/8 [==============================] - 13s 2s/step - loss: 0.4570 - accuracy: 0.8074 - val_loss: 0.4392 - val_accuracy: 1.0000\n",
      "Epoch 19/40\n",
      "8/8 [==============================] - 12s 2s/step - loss: 0.4307 - accuracy: 0.8115 - val_loss: 0.4266 - val_accuracy: 0.9500\n",
      "Epoch 20/40\n",
      "8/8 [==============================] - 13s 2s/step - loss: 0.4790 - accuracy: 0.8033 - val_loss: 0.4790 - val_accuracy: 1.0000\n",
      "Epoch 21/40\n",
      "8/8 [==============================] - 13s 2s/step - loss: 0.3925 - accuracy: 0.8361 - val_loss: 0.5057 - val_accuracy: 0.9500\n",
      "Epoch 22/40\n",
      "8/8 [==============================] - 12s 1s/step - loss: 0.3915 - accuracy: 0.8279 - val_loss: 0.4541 - val_accuracy: 1.0000\n",
      "Epoch 23/40\n",
      "8/8 [==============================] - 13s 2s/step - loss: 0.4428 - accuracy: 0.8156 - val_loss: 0.4655 - val_accuracy: 0.9500\n",
      "Epoch 24/40\n",
      "8/8 [==============================] - 13s 2s/step - loss: 0.4767 - accuracy: 0.7992 - val_loss: 0.4787 - val_accuracy: 0.9000\n",
      "Epoch 25/40\n",
      "8/8 [==============================] - 13s 2s/step - loss: 0.3922 - accuracy: 0.8648 - val_loss: 0.4501 - val_accuracy: 1.0000\n",
      "Epoch 26/40\n",
      "8/8 [==============================] - 13s 2s/step - loss: 0.4092 - accuracy: 0.8279 - val_loss: 0.4638 - val_accuracy: 1.0000\n",
      "Epoch 27/40\n",
      "8/8 [==============================] - 13s 2s/step - loss: 0.3665 - accuracy: 0.8566 - val_loss: 0.5019 - val_accuracy: 1.0000\n",
      "Epoch 28/40\n",
      "8/8 [==============================] - 12s 1s/step - loss: 0.4476 - accuracy: 0.8279 - val_loss: 0.4481 - val_accuracy: 1.0000\n",
      "Epoch 29/40\n",
      "8/8 [==============================] - 13s 2s/step - loss: 0.2918 - accuracy: 0.8607 - val_loss: 0.4981 - val_accuracy: 1.0000\n",
      "Epoch 30/40\n",
      "8/8 [==============================] - 13s 2s/step - loss: 0.3322 - accuracy: 0.8361 - val_loss: 0.4368 - val_accuracy: 1.0000\n",
      "Epoch 31/40\n",
      "8/8 [==============================] - 304s 43s/step - loss: 0.3330 - accuracy: 0.8689 - val_loss: 0.4334 - val_accuracy: 1.0000\n",
      "Epoch 32/40\n",
      "8/8 [==============================] - 13s 2s/step - loss: 0.3432 - accuracy: 0.8525 - val_loss: 0.4635 - val_accuracy: 1.0000\n",
      "Epoch 33/40\n",
      "8/8 [==============================] - 12s 1s/step - loss: 0.3816 - accuracy: 0.8770 - val_loss: 0.4497 - val_accuracy: 1.0000\n",
      "Epoch 34/40\n",
      "8/8 [==============================] - 12s 2s/step - loss: 0.2918 - accuracy: 0.8852 - val_loss: 0.4167 - val_accuracy: 1.0000\n",
      "Epoch 35/40\n",
      "8/8 [==============================] - 12s 1s/step - loss: 0.3639 - accuracy: 0.8689 - val_loss: 0.4910 - val_accuracy: 1.0000\n",
      "Epoch 36/40\n",
      "8/8 [==============================] - 14s 2s/step - loss: 0.3366 - accuracy: 0.8893 - val_loss: 0.4955 - val_accuracy: 1.0000\n",
      "Epoch 37/40\n",
      "8/8 [==============================] - 12s 1s/step - loss: 0.5247 - accuracy: 0.7705 - val_loss: 0.4913 - val_accuracy: 1.0000\n",
      "Epoch 38/40\n",
      "8/8 [==============================] - 12s 2s/step - loss: 0.4541 - accuracy: 0.8197 - val_loss: 0.4993 - val_accuracy: 1.0000\n",
      "Epoch 39/40\n",
      "8/8 [==============================] - 12s 1s/step - loss: 0.3126 - accuracy: 0.8689 - val_loss: 0.4376 - val_accuracy: 1.0000\n",
      "Epoch 40/40\n",
      "8/8 [==============================] - 12s 1s/step - loss: 0.3305 - accuracy: 0.8648 - val_loss: 0.5008 - val_accuracy: 1.0000\n"
     ]
    }
   ],
   "source": [
    "r = model.fit(training_set,validation_data=test_set,steps_per_epoch=len(training_set),\n",
    "  validation_steps=len(test_set),epochs=epochs)"
   ]
  },
  {
   "cell_type": "code",
   "execution_count": 26,
   "id": "2567da64",
   "metadata": {},
   "outputs": [],
   "source": [
    "#plotting"
   ]
  },
  {
   "cell_type": "code",
   "execution_count": 27,
   "id": "8dc9fd74",
   "metadata": {},
   "outputs": [],
   "source": [
    "import matplotlib.pyplot as plt"
   ]
  },
  {
   "cell_type": "code",
   "execution_count": 29,
   "id": "03c22fb1",
   "metadata": {},
   "outputs": [
    {
     "data": {
      "image/png": "[encoded data removed]",
      "text/plain": [
       "<Figure size 432x288 with 1 Axes>"
      ]
     },
     "metadata": {
      "needs_background": "light"
     },
     "output_type": "display_data"
    },
    {
     "data": {
      "image/png": "[encoded data removed]",
      "text/plain": [
       "<Figure size 432x288 with 1 Axes>"
      ]
     },
     "metadata": {
      "needs_background": "light"
     },
     "output_type": "display_data"
    }
   ],
   "source": [
    "plt.plot(r.history['loss'], label='train loss')\n",
    "plt.plot(r.history['val_loss'], label='val loss')\n",
    "plt.legend()\n",
    "plt.show()\n",
    "\n",
    "# plot the accuracy\n",
    "plt.plot(r.history['accuracy'], label='train_accuracy')\n",
    "plt.plot(r.history['val_accuracy'], label='val_accuracy')\n",
    "plt.legend()\n",
    "plt.show()"
   ]
  },
  {
   "cell_type": "code",
   "execution_count": 30,
   "id": "58fe80e6",
   "metadata": {},
   "outputs": [],
   "source": [
    "from tensorflow.keras.models import load_model\n",
    "from tensorflow.keras.preprocessing import image\n",
    "\n",
    "model.save('classification_model.h5')"
   ]
  },
  {
   "cell_type": "code",
   "execution_count": 31,
   "id": "cd9df8b8",
   "metadata": {},
   "outputs": [],
   "source": [
    "#loading model\n",
    "model = load_model('D:/New folder/classification_model.h5')"
   ]
  },
  {
   "cell_type": "code",
   "execution_count": 34,
   "id": "81019a2f",
   "metadata": {},
   "outputs": [],
   "source": [
    "test_image = image.load_img('D:/New folder/dataset/X-Ray Image DataSet/No_findings/00001280_004.png', target_size = (128,128))\n",
    "test_image = image.img_to_array(test_image)\n",
    "test_image=test_image/255\n",
    "test_image = np.expand_dims(test_image, axis = 0)\n",
    "result = model.predict(test_image)"
   ]
  },
  {
   "cell_type": "code",
   "execution_count": 35,
   "id": "e62fe5b2",
   "metadata": {},
   "outputs": [
    {
     "data": {
      "text/plain": [
       "array([[0.38257754]], dtype=float32)"
      ]
     },
     "execution_count": 35,
     "metadata": {},
     "output_type": "execute_result"
    }
   ],
   "source": [
    "result"
   ]
  },
  {
   "cell_type": "code",
   "execution_count": 36,
   "id": "1bb9cc07",
   "metadata": {},
   "outputs": [
    {
     "name": "stdout",
     "output_type": "stream",
     "text": [
      "The person have corona\n"
     ]
    }
   ],
   "source": [
    "if result[0]<0.5:\n",
    "    print(\"The person have corona\")\n",
    "else:\n",
    "    print(\"The person don't have corona \")"
   ]
  },
  {
   "cell_type": "code",
   "execution_count": null,
   "id": "d87fa903",
   "metadata": {},
   "outputs": [],
   "source": []
  }
 ],
 "metadata": {
  "kernelspec": {
   "display_name": "Python 3",
   "language": "python",
   "name": "python3"
  },
  "language_info": {
   "codemirror_mode": {
    "name": "ipython",
    "version": 3
   },
   "file_extension": ".py",
   "mimetype": "text/x-python",
   "name": "python",
   "nbconvert_exporter": "python",
   "pygments_lexer": "ipython3",
   "version": "3.9.0"
  }
 },
 "nbformat": 4,
 "nbformat_minor": 5
}
